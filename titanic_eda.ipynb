{
 "cells": [
  {
   "cell_type": "code",
   "execution_count": 2,
   "id": "b743a235",
   "metadata": {},
   "outputs": [
    {
     "name": "stderr",
     "output_type": "stream",
     "text": [
      "Matplotlib is building the font cache; this may take a moment.\n"
     ]
    }
   ],
   "source": [
    "import numpy as np\n",
    "import pandas as pd\n",
    "import matplotlib.pyplot as plt\n",
    "import seaborn as sns\n",
    "import statistics as stats\n",
    "\n",
    "df = pd.read_csv('train.csv')"
   ]
  },
  {
   "cell_type": "markdown",
   "id": "7b4e9eba",
   "metadata": {},
   "source": [
    "# Context"
   ]
  },
  {
   "cell_type": "code",
   "execution_count": 3,
   "id": "342dd4f0",
   "metadata": {},
   "outputs": [
    {
     "data": {
      "text/html": [
       "<div>\n",
       "<style scoped>\n",
       "    .dataframe tbody tr th:only-of-type {\n",
       "        vertical-align: middle;\n",
       "    }\n",
       "\n",
       "    .dataframe tbody tr th {\n",
       "        vertical-align: top;\n",
       "    }\n",
       "\n",
       "    .dataframe thead th {\n",
       "        text-align: right;\n",
       "    }\n",
       "</style>\n",
       "<table border=\"1\" class=\"dataframe\">\n",
       "  <thead>\n",
       "    <tr style=\"text-align: right;\">\n",
       "      <th></th>\n",
       "      <th>PassengerId</th>\n",
       "      <th>Survived</th>\n",
       "      <th>Pclass</th>\n",
       "      <th>Name</th>\n",
       "      <th>Sex</th>\n",
       "      <th>Age</th>\n",
       "      <th>SibSp</th>\n",
       "      <th>Parch</th>\n",
       "      <th>Ticket</th>\n",
       "      <th>Fare</th>\n",
       "      <th>Cabin</th>\n",
       "      <th>Embarked</th>\n",
       "    </tr>\n",
       "  </thead>\n",
       "  <tbody>\n",
       "    <tr>\n",
       "      <th>0</th>\n",
       "      <td>0</td>\n",
       "      <td>1</td>\n",
       "      <td>1</td>\n",
       "      <td>Oconnor, Frankie</td>\n",
       "      <td>male</td>\n",
       "      <td>NaN</td>\n",
       "      <td>2</td>\n",
       "      <td>0</td>\n",
       "      <td>209245</td>\n",
       "      <td>27.14</td>\n",
       "      <td>C12239</td>\n",
       "      <td>S</td>\n",
       "    </tr>\n",
       "    <tr>\n",
       "      <th>1</th>\n",
       "      <td>1</td>\n",
       "      <td>0</td>\n",
       "      <td>3</td>\n",
       "      <td>Bryan, Drew</td>\n",
       "      <td>male</td>\n",
       "      <td>NaN</td>\n",
       "      <td>0</td>\n",
       "      <td>0</td>\n",
       "      <td>27323</td>\n",
       "      <td>13.35</td>\n",
       "      <td>NaN</td>\n",
       "      <td>S</td>\n",
       "    </tr>\n",
       "    <tr>\n",
       "      <th>2</th>\n",
       "      <td>2</td>\n",
       "      <td>0</td>\n",
       "      <td>3</td>\n",
       "      <td>Owens, Kenneth</td>\n",
       "      <td>male</td>\n",
       "      <td>0.33</td>\n",
       "      <td>1</td>\n",
       "      <td>2</td>\n",
       "      <td>CA 457703</td>\n",
       "      <td>71.29</td>\n",
       "      <td>NaN</td>\n",
       "      <td>S</td>\n",
       "    </tr>\n",
       "    <tr>\n",
       "      <th>3</th>\n",
       "      <td>3</td>\n",
       "      <td>0</td>\n",
       "      <td>3</td>\n",
       "      <td>Kramer, James</td>\n",
       "      <td>male</td>\n",
       "      <td>19.00</td>\n",
       "      <td>0</td>\n",
       "      <td>0</td>\n",
       "      <td>A. 10866</td>\n",
       "      <td>13.04</td>\n",
       "      <td>NaN</td>\n",
       "      <td>S</td>\n",
       "    </tr>\n",
       "    <tr>\n",
       "      <th>4</th>\n",
       "      <td>4</td>\n",
       "      <td>1</td>\n",
       "      <td>3</td>\n",
       "      <td>Bond, Michael</td>\n",
       "      <td>male</td>\n",
       "      <td>25.00</td>\n",
       "      <td>0</td>\n",
       "      <td>0</td>\n",
       "      <td>427635</td>\n",
       "      <td>7.76</td>\n",
       "      <td>NaN</td>\n",
       "      <td>S</td>\n",
       "    </tr>\n",
       "    <tr>\n",
       "      <th>5</th>\n",
       "      <td>5</td>\n",
       "      <td>0</td>\n",
       "      <td>2</td>\n",
       "      <td>Sassano, Jonathan</td>\n",
       "      <td>male</td>\n",
       "      <td>35.00</td>\n",
       "      <td>0</td>\n",
       "      <td>0</td>\n",
       "      <td>13363</td>\n",
       "      <td>6.71</td>\n",
       "      <td>NaN</td>\n",
       "      <td>S</td>\n",
       "    </tr>\n",
       "    <tr>\n",
       "      <th>6</th>\n",
       "      <td>6</td>\n",
       "      <td>0</td>\n",
       "      <td>3</td>\n",
       "      <td>Conway, Jose</td>\n",
       "      <td>male</td>\n",
       "      <td>7.00</td>\n",
       "      <td>0</td>\n",
       "      <td>0</td>\n",
       "      <td>A/5</td>\n",
       "      <td>9.77</td>\n",
       "      <td>NaN</td>\n",
       "      <td>S</td>\n",
       "    </tr>\n",
       "    <tr>\n",
       "      <th>7</th>\n",
       "      <td>7</td>\n",
       "      <td>1</td>\n",
       "      <td>3</td>\n",
       "      <td>Werner, Linda</td>\n",
       "      <td>female</td>\n",
       "      <td>6.00</td>\n",
       "      <td>1</td>\n",
       "      <td>2</td>\n",
       "      <td>434426</td>\n",
       "      <td>31.50</td>\n",
       "      <td>NaN</td>\n",
       "      <td>S</td>\n",
       "    </tr>\n",
       "    <tr>\n",
       "      <th>8</th>\n",
       "      <td>8</td>\n",
       "      <td>0</td>\n",
       "      <td>1</td>\n",
       "      <td>Wardlaw, Michael</td>\n",
       "      <td>male</td>\n",
       "      <td>27.00</td>\n",
       "      <td>2</td>\n",
       "      <td>1</td>\n",
       "      <td>474849</td>\n",
       "      <td>73.02</td>\n",
       "      <td>A7253</td>\n",
       "      <td>S</td>\n",
       "    </tr>\n",
       "    <tr>\n",
       "      <th>9</th>\n",
       "      <td>9</td>\n",
       "      <td>0</td>\n",
       "      <td>2</td>\n",
       "      <td>Greigo, Rudy</td>\n",
       "      <td>male</td>\n",
       "      <td>66.00</td>\n",
       "      <td>0</td>\n",
       "      <td>0</td>\n",
       "      <td>6981</td>\n",
       "      <td>9.14</td>\n",
       "      <td>D2969</td>\n",
       "      <td>C</td>\n",
       "    </tr>\n",
       "  </tbody>\n",
       "</table>\n",
       "</div>"
      ],
      "text/plain": [
       "   PassengerId  Survived  Pclass               Name     Sex    Age  SibSp  \\\n",
       "0            0         1       1   Oconnor, Frankie    male    NaN      2   \n",
       "1            1         0       3        Bryan, Drew    male    NaN      0   \n",
       "2            2         0       3     Owens, Kenneth    male   0.33      1   \n",
       "3            3         0       3      Kramer, James    male  19.00      0   \n",
       "4            4         1       3      Bond, Michael    male  25.00      0   \n",
       "5            5         0       2  Sassano, Jonathan    male  35.00      0   \n",
       "6            6         0       3       Conway, Jose    male   7.00      0   \n",
       "7            7         1       3      Werner, Linda  female   6.00      1   \n",
       "8            8         0       1   Wardlaw, Michael    male  27.00      2   \n",
       "9            9         0       2       Greigo, Rudy    male  66.00      0   \n",
       "\n",
       "   Parch     Ticket   Fare   Cabin Embarked  \n",
       "0      0     209245  27.14  C12239        S  \n",
       "1      0      27323  13.35     NaN        S  \n",
       "2      2  CA 457703  71.29     NaN        S  \n",
       "3      0   A. 10866  13.04     NaN        S  \n",
       "4      0     427635   7.76     NaN        S  \n",
       "5      0      13363   6.71     NaN        S  \n",
       "6      0       A/5    9.77     NaN        S  \n",
       "7      2     434426  31.50     NaN        S  \n",
       "8      1     474849  73.02   A7253        S  \n",
       "9      0       6981   9.14   D2969        C  "
      ]
     },
     "execution_count": 3,
     "metadata": {},
     "output_type": "execute_result"
    }
   ],
   "source": [
    "df.head(10)"
   ]
  },
  {
   "cell_type": "markdown",
   "id": "4346177c",
   "metadata": {},
   "source": [
    "# Data quality assessment"
   ]
  },
  {
   "cell_type": "code",
   "execution_count": 4,
   "id": "4d0f78ce",
   "metadata": {
    "scrolled": true
   },
   "outputs": [
    {
     "data": {
      "text/html": [
       "<div>\n",
       "<style scoped>\n",
       "    .dataframe tbody tr th:only-of-type {\n",
       "        vertical-align: middle;\n",
       "    }\n",
       "\n",
       "    .dataframe tbody tr th {\n",
       "        vertical-align: top;\n",
       "    }\n",
       "\n",
       "    .dataframe thead th {\n",
       "        text-align: right;\n",
       "    }\n",
       "</style>\n",
       "<table border=\"1\" class=\"dataframe\">\n",
       "  <thead>\n",
       "    <tr style=\"text-align: right;\">\n",
       "      <th></th>\n",
       "      <th>Survived</th>\n",
       "      <th>Pclass</th>\n",
       "      <th>Age</th>\n",
       "      <th>SibSp</th>\n",
       "      <th>Parch</th>\n",
       "      <th>Fare</th>\n",
       "    </tr>\n",
       "  </thead>\n",
       "  <tbody>\n",
       "    <tr>\n",
       "      <th>count</th>\n",
       "      <td>100000.000000</td>\n",
       "      <td>100000.000000</td>\n",
       "      <td>96708.000000</td>\n",
       "      <td>100000.000000</td>\n",
       "      <td>100000.000000</td>\n",
       "      <td>99866.00000</td>\n",
       "    </tr>\n",
       "    <tr>\n",
       "      <th>mean</th>\n",
       "      <td>0.427740</td>\n",
       "      <td>2.106910</td>\n",
       "      <td>38.355472</td>\n",
       "      <td>0.397690</td>\n",
       "      <td>0.454560</td>\n",
       "      <td>43.92933</td>\n",
       "    </tr>\n",
       "    <tr>\n",
       "      <th>std</th>\n",
       "      <td>0.494753</td>\n",
       "      <td>0.837727</td>\n",
       "      <td>18.313556</td>\n",
       "      <td>0.862566</td>\n",
       "      <td>0.950076</td>\n",
       "      <td>69.58882</td>\n",
       "    </tr>\n",
       "    <tr>\n",
       "      <th>min</th>\n",
       "      <td>0.000000</td>\n",
       "      <td>1.000000</td>\n",
       "      <td>0.080000</td>\n",
       "      <td>0.000000</td>\n",
       "      <td>0.000000</td>\n",
       "      <td>0.68000</td>\n",
       "    </tr>\n",
       "    <tr>\n",
       "      <th>25%</th>\n",
       "      <td>0.000000</td>\n",
       "      <td>1.000000</td>\n",
       "      <td>25.000000</td>\n",
       "      <td>0.000000</td>\n",
       "      <td>0.000000</td>\n",
       "      <td>10.04000</td>\n",
       "    </tr>\n",
       "    <tr>\n",
       "      <th>50%</th>\n",
       "      <td>0.000000</td>\n",
       "      <td>2.000000</td>\n",
       "      <td>39.000000</td>\n",
       "      <td>0.000000</td>\n",
       "      <td>0.000000</td>\n",
       "      <td>24.46000</td>\n",
       "    </tr>\n",
       "    <tr>\n",
       "      <th>75%</th>\n",
       "      <td>1.000000</td>\n",
       "      <td>3.000000</td>\n",
       "      <td>53.000000</td>\n",
       "      <td>1.000000</td>\n",
       "      <td>1.000000</td>\n",
       "      <td>33.50000</td>\n",
       "    </tr>\n",
       "    <tr>\n",
       "      <th>max</th>\n",
       "      <td>1.000000</td>\n",
       "      <td>3.000000</td>\n",
       "      <td>87.000000</td>\n",
       "      <td>8.000000</td>\n",
       "      <td>9.000000</td>\n",
       "      <td>744.66000</td>\n",
       "    </tr>\n",
       "  </tbody>\n",
       "</table>\n",
       "</div>"
      ],
      "text/plain": [
       "            Survived         Pclass           Age          SibSp  \\\n",
       "count  100000.000000  100000.000000  96708.000000  100000.000000   \n",
       "mean        0.427740       2.106910     38.355472       0.397690   \n",
       "std         0.494753       0.837727     18.313556       0.862566   \n",
       "min         0.000000       1.000000      0.080000       0.000000   \n",
       "25%         0.000000       1.000000     25.000000       0.000000   \n",
       "50%         0.000000       2.000000     39.000000       0.000000   \n",
       "75%         1.000000       3.000000     53.000000       1.000000   \n",
       "max         1.000000       3.000000     87.000000       8.000000   \n",
       "\n",
       "               Parch         Fare  \n",
       "count  100000.000000  99866.00000  \n",
       "mean        0.454560     43.92933  \n",
       "std         0.950076     69.58882  \n",
       "min         0.000000      0.68000  \n",
       "25%         0.000000     10.04000  \n",
       "50%         0.000000     24.46000  \n",
       "75%         1.000000     33.50000  \n",
       "max         9.000000    744.66000  "
      ]
     },
     "execution_count": 4,
     "metadata": {},
     "output_type": "execute_result"
    }
   ],
   "source": [
    "df.drop(['PassengerId'], axis=1, inplace=True)\n",
    "df.describe()"
   ]
  },
  {
   "cell_type": "code",
   "execution_count": 5,
   "id": "435f6c2c",
   "metadata": {},
   "outputs": [
    {
     "data": {
      "text/plain": [
       "Survived        0\n",
       "Pclass          0\n",
       "Name            0\n",
       "Sex             0\n",
       "Age          3292\n",
       "SibSp           0\n",
       "Parch           0\n",
       "Ticket       4623\n",
       "Fare          134\n",
       "Cabin       67866\n",
       "Embarked      250\n",
       "dtype: int64"
      ]
     },
     "execution_count": 5,
     "metadata": {},
     "output_type": "execute_result"
    }
   ],
   "source": [
    "df.isnull().sum()"
   ]
  },
  {
   "cell_type": "code",
   "execution_count": 6,
   "id": "347a4943",
   "metadata": {},
   "outputs": [
    {
     "data": {
      "text/html": [
       "<div>\n",
       "<style scoped>\n",
       "    .dataframe tbody tr th:only-of-type {\n",
       "        vertical-align: middle;\n",
       "    }\n",
       "\n",
       "    .dataframe tbody tr th {\n",
       "        vertical-align: top;\n",
       "    }\n",
       "\n",
       "    .dataframe thead th {\n",
       "        text-align: right;\n",
       "    }\n",
       "</style>\n",
       "<table border=\"1\" class=\"dataframe\">\n",
       "  <thead>\n",
       "    <tr style=\"text-align: right;\">\n",
       "      <th></th>\n",
       "      <th>Survived</th>\n",
       "      <th>Pclass</th>\n",
       "      <th>Name</th>\n",
       "      <th>Sex</th>\n",
       "      <th>Age</th>\n",
       "      <th>SibSp</th>\n",
       "      <th>Parch</th>\n",
       "      <th>Ticket</th>\n",
       "      <th>Fare</th>\n",
       "      <th>Cabin</th>\n",
       "      <th>...</th>\n",
       "      <th>Family</th>\n",
       "      <th>is_female</th>\n",
       "      <th>has_cabin</th>\n",
       "      <th>has_ticket</th>\n",
       "      <th>has_age</th>\n",
       "      <th>has_fare</th>\n",
       "      <th>has_embarked</th>\n",
       "      <th>cabin_letter</th>\n",
       "      <th>is_child</th>\n",
       "      <th>age_group</th>\n",
       "    </tr>\n",
       "  </thead>\n",
       "  <tbody>\n",
       "    <tr>\n",
       "      <th>0</th>\n",
       "      <td>1</td>\n",
       "      <td>1</td>\n",
       "      <td>Oconnor, Frankie</td>\n",
       "      <td>male</td>\n",
       "      <td>38.355472</td>\n",
       "      <td>2</td>\n",
       "      <td>0</td>\n",
       "      <td>209245</td>\n",
       "      <td>27.14</td>\n",
       "      <td>C12239</td>\n",
       "      <td>...</td>\n",
       "      <td>2</td>\n",
       "      <td>0</td>\n",
       "      <td>1</td>\n",
       "      <td>1</td>\n",
       "      <td>0</td>\n",
       "      <td>1</td>\n",
       "      <td>1</td>\n",
       "      <td>C</td>\n",
       "      <td>0</td>\n",
       "      <td>30_39</td>\n",
       "    </tr>\n",
       "    <tr>\n",
       "      <th>1</th>\n",
       "      <td>0</td>\n",
       "      <td>3</td>\n",
       "      <td>Bryan, Drew</td>\n",
       "      <td>male</td>\n",
       "      <td>38.355472</td>\n",
       "      <td>0</td>\n",
       "      <td>0</td>\n",
       "      <td>27323</td>\n",
       "      <td>13.35</td>\n",
       "      <td>NaN</td>\n",
       "      <td>...</td>\n",
       "      <td>0</td>\n",
       "      <td>0</td>\n",
       "      <td>0</td>\n",
       "      <td>1</td>\n",
       "      <td>0</td>\n",
       "      <td>1</td>\n",
       "      <td>1</td>\n",
       "      <td>n</td>\n",
       "      <td>0</td>\n",
       "      <td>30_39</td>\n",
       "    </tr>\n",
       "    <tr>\n",
       "      <th>2</th>\n",
       "      <td>0</td>\n",
       "      <td>3</td>\n",
       "      <td>Owens, Kenneth</td>\n",
       "      <td>male</td>\n",
       "      <td>0.330000</td>\n",
       "      <td>1</td>\n",
       "      <td>2</td>\n",
       "      <td>CA 457703</td>\n",
       "      <td>71.29</td>\n",
       "      <td>NaN</td>\n",
       "      <td>...</td>\n",
       "      <td>3</td>\n",
       "      <td>0</td>\n",
       "      <td>0</td>\n",
       "      <td>1</td>\n",
       "      <td>1</td>\n",
       "      <td>1</td>\n",
       "      <td>1</td>\n",
       "      <td>n</td>\n",
       "      <td>1</td>\n",
       "      <td>0_19</td>\n",
       "    </tr>\n",
       "    <tr>\n",
       "      <th>3</th>\n",
       "      <td>0</td>\n",
       "      <td>3</td>\n",
       "      <td>Kramer, James</td>\n",
       "      <td>male</td>\n",
       "      <td>19.000000</td>\n",
       "      <td>0</td>\n",
       "      <td>0</td>\n",
       "      <td>A. 10866</td>\n",
       "      <td>13.04</td>\n",
       "      <td>NaN</td>\n",
       "      <td>...</td>\n",
       "      <td>0</td>\n",
       "      <td>0</td>\n",
       "      <td>0</td>\n",
       "      <td>1</td>\n",
       "      <td>1</td>\n",
       "      <td>1</td>\n",
       "      <td>1</td>\n",
       "      <td>n</td>\n",
       "      <td>0</td>\n",
       "      <td>0_19</td>\n",
       "    </tr>\n",
       "    <tr>\n",
       "      <th>4</th>\n",
       "      <td>1</td>\n",
       "      <td>3</td>\n",
       "      <td>Bond, Michael</td>\n",
       "      <td>male</td>\n",
       "      <td>25.000000</td>\n",
       "      <td>0</td>\n",
       "      <td>0</td>\n",
       "      <td>427635</td>\n",
       "      <td>7.76</td>\n",
       "      <td>NaN</td>\n",
       "      <td>...</td>\n",
       "      <td>0</td>\n",
       "      <td>0</td>\n",
       "      <td>0</td>\n",
       "      <td>1</td>\n",
       "      <td>1</td>\n",
       "      <td>1</td>\n",
       "      <td>1</td>\n",
       "      <td>n</td>\n",
       "      <td>0</td>\n",
       "      <td>20_29</td>\n",
       "    </tr>\n",
       "    <tr>\n",
       "      <th>5</th>\n",
       "      <td>0</td>\n",
       "      <td>2</td>\n",
       "      <td>Sassano, Jonathan</td>\n",
       "      <td>male</td>\n",
       "      <td>35.000000</td>\n",
       "      <td>0</td>\n",
       "      <td>0</td>\n",
       "      <td>13363</td>\n",
       "      <td>6.71</td>\n",
       "      <td>NaN</td>\n",
       "      <td>...</td>\n",
       "      <td>0</td>\n",
       "      <td>0</td>\n",
       "      <td>0</td>\n",
       "      <td>1</td>\n",
       "      <td>1</td>\n",
       "      <td>1</td>\n",
       "      <td>1</td>\n",
       "      <td>n</td>\n",
       "      <td>0</td>\n",
       "      <td>30_39</td>\n",
       "    </tr>\n",
       "    <tr>\n",
       "      <th>6</th>\n",
       "      <td>0</td>\n",
       "      <td>3</td>\n",
       "      <td>Conway, Jose</td>\n",
       "      <td>male</td>\n",
       "      <td>7.000000</td>\n",
       "      <td>0</td>\n",
       "      <td>0</td>\n",
       "      <td>A/5</td>\n",
       "      <td>9.77</td>\n",
       "      <td>NaN</td>\n",
       "      <td>...</td>\n",
       "      <td>0</td>\n",
       "      <td>0</td>\n",
       "      <td>0</td>\n",
       "      <td>1</td>\n",
       "      <td>1</td>\n",
       "      <td>1</td>\n",
       "      <td>1</td>\n",
       "      <td>n</td>\n",
       "      <td>1</td>\n",
       "      <td>0_19</td>\n",
       "    </tr>\n",
       "    <tr>\n",
       "      <th>7</th>\n",
       "      <td>1</td>\n",
       "      <td>3</td>\n",
       "      <td>Werner, Linda</td>\n",
       "      <td>female</td>\n",
       "      <td>6.000000</td>\n",
       "      <td>1</td>\n",
       "      <td>2</td>\n",
       "      <td>434426</td>\n",
       "      <td>31.50</td>\n",
       "      <td>NaN</td>\n",
       "      <td>...</td>\n",
       "      <td>3</td>\n",
       "      <td>1</td>\n",
       "      <td>0</td>\n",
       "      <td>1</td>\n",
       "      <td>1</td>\n",
       "      <td>1</td>\n",
       "      <td>1</td>\n",
       "      <td>n</td>\n",
       "      <td>1</td>\n",
       "      <td>0_19</td>\n",
       "    </tr>\n",
       "    <tr>\n",
       "      <th>8</th>\n",
       "      <td>0</td>\n",
       "      <td>1</td>\n",
       "      <td>Wardlaw, Michael</td>\n",
       "      <td>male</td>\n",
       "      <td>27.000000</td>\n",
       "      <td>2</td>\n",
       "      <td>1</td>\n",
       "      <td>474849</td>\n",
       "      <td>73.02</td>\n",
       "      <td>A7253</td>\n",
       "      <td>...</td>\n",
       "      <td>3</td>\n",
       "      <td>0</td>\n",
       "      <td>1</td>\n",
       "      <td>1</td>\n",
       "      <td>1</td>\n",
       "      <td>1</td>\n",
       "      <td>1</td>\n",
       "      <td>A</td>\n",
       "      <td>0</td>\n",
       "      <td>20_29</td>\n",
       "    </tr>\n",
       "    <tr>\n",
       "      <th>9</th>\n",
       "      <td>0</td>\n",
       "      <td>2</td>\n",
       "      <td>Greigo, Rudy</td>\n",
       "      <td>male</td>\n",
       "      <td>66.000000</td>\n",
       "      <td>0</td>\n",
       "      <td>0</td>\n",
       "      <td>6981</td>\n",
       "      <td>9.14</td>\n",
       "      <td>D2969</td>\n",
       "      <td>...</td>\n",
       "      <td>0</td>\n",
       "      <td>0</td>\n",
       "      <td>1</td>\n",
       "      <td>1</td>\n",
       "      <td>1</td>\n",
       "      <td>1</td>\n",
       "      <td>1</td>\n",
       "      <td>D</td>\n",
       "      <td>0</td>\n",
       "      <td>60_69</td>\n",
       "    </tr>\n",
       "  </tbody>\n",
       "</table>\n",
       "<p>10 rows × 21 columns</p>\n",
       "</div>"
      ],
      "text/plain": [
       "   Survived  Pclass               Name     Sex        Age  SibSp  Parch  \\\n",
       "0         1       1   Oconnor, Frankie    male  38.355472      2      0   \n",
       "1         0       3        Bryan, Drew    male  38.355472      0      0   \n",
       "2         0       3     Owens, Kenneth    male   0.330000      1      2   \n",
       "3         0       3      Kramer, James    male  19.000000      0      0   \n",
       "4         1       3      Bond, Michael    male  25.000000      0      0   \n",
       "5         0       2  Sassano, Jonathan    male  35.000000      0      0   \n",
       "6         0       3       Conway, Jose    male   7.000000      0      0   \n",
       "7         1       3      Werner, Linda  female   6.000000      1      2   \n",
       "8         0       1   Wardlaw, Michael    male  27.000000      2      1   \n",
       "9         0       2       Greigo, Rudy    male  66.000000      0      0   \n",
       "\n",
       "      Ticket   Fare   Cabin  ... Family  is_female  has_cabin  has_ticket  \\\n",
       "0     209245  27.14  C12239  ...      2          0          1           1   \n",
       "1      27323  13.35     NaN  ...      0          0          0           1   \n",
       "2  CA 457703  71.29     NaN  ...      3          0          0           1   \n",
       "3   A. 10866  13.04     NaN  ...      0          0          0           1   \n",
       "4     427635   7.76     NaN  ...      0          0          0           1   \n",
       "5      13363   6.71     NaN  ...      0          0          0           1   \n",
       "6       A/5    9.77     NaN  ...      0          0          0           1   \n",
       "7     434426  31.50     NaN  ...      3          1          0           1   \n",
       "8     474849  73.02   A7253  ...      3          0          1           1   \n",
       "9       6981   9.14   D2969  ...      0          0          1           1   \n",
       "\n",
       "   has_age  has_fare  has_embarked  cabin_letter is_child  age_group  \n",
       "0        0         1             1             C        0      30_39  \n",
       "1        0         1             1             n        0      30_39  \n",
       "2        1         1             1             n        1       0_19  \n",
       "3        1         1             1             n        0       0_19  \n",
       "4        1         1             1             n        0      20_29  \n",
       "5        1         1             1             n        0      30_39  \n",
       "6        1         1             1             n        1       0_19  \n",
       "7        1         1             1             n        1       0_19  \n",
       "8        1         1             1             A        0      20_29  \n",
       "9        1         1             1             D        0      60_69  \n",
       "\n",
       "[10 rows x 21 columns]"
      ]
     },
     "execution_count": 6,
     "metadata": {},
     "output_type": "execute_result"
    }
   ],
   "source": [
    "df['Family'] = df['SibSp'] + df['Parch']\n",
    "\n",
    "df['is_female'] = np.where(df['Sex'] == \"male\", 0, 1)\n",
    "df['has_cabin'] = np.where(df['Cabin'].isnull(), 0, 1)\n",
    "df['has_ticket'] = np.where(df['Ticket'].isnull(), 0, 1)\n",
    "df['has_age'] = np.where(df['Age'].isnull(), 0, 1)\n",
    "df['has_fare'] = np.where(df['Fare'].isnull(), 0, 1)\n",
    "df['has_embarked'] = np.where(df['Embarked'].isnull(), 0, 1)\n",
    "df['cabin_letter'] = df['Cabin'].apply(lambda x: str(x)[0])\n",
    "\n",
    "df['Age'].fillna(df['Age'].mean(), inplace=True)\n",
    "df['Fare'].fillna(df['Fare'].mean(), inplace=True)\n",
    "\n",
    "df['is_child'] = np.where(df['Age'] > 18, 0, 1)\n",
    "\n",
    "df.loc[df['Age']<=19, 'age_group'] = '0_19'\n",
    "df.loc[df['Age'].between(20,29), 'age_group'] = '20_29'\n",
    "df.loc[df['Age'].between(30,39), 'age_group'] = '30_39'\n",
    "df.loc[df['Age'].between(40,49), 'age_group'] = '40_49'\n",
    "df.loc[df['Age'].between(50,59), 'age_group'] = '50_59'\n",
    "df.loc[df['Age'].between(60,69), 'age_group'] = '60_69'\n",
    "df.loc[df['Age']>69, 'age_group'] = '70+'\n",
    "\n",
    "df.head(10)"
   ]
  },
  {
   "cell_type": "code",
   "execution_count": 7,
   "id": "88b666b9",
   "metadata": {},
   "outputs": [
    {
     "name": "stdout",
     "output_type": "stream",
     "text": [
      "<class 'pandas.core.frame.DataFrame'>\n",
      "RangeIndex: 100000 entries, 0 to 99999\n",
      "Data columns (total 21 columns):\n",
      " #   Column        Non-Null Count   Dtype  \n",
      "---  ------        --------------   -----  \n",
      " 0   Survived      100000 non-null  int64  \n",
      " 1   Pclass        100000 non-null  int64  \n",
      " 2   Name          100000 non-null  object \n",
      " 3   Sex           100000 non-null  object \n",
      " 4   Age           100000 non-null  float64\n",
      " 5   SibSp         100000 non-null  int64  \n",
      " 6   Parch         100000 non-null  int64  \n",
      " 7   Ticket        95377 non-null   object \n",
      " 8   Fare          100000 non-null  float64\n",
      " 9   Cabin         32134 non-null   object \n",
      " 10  Embarked      99750 non-null   object \n",
      " 11  Family        100000 non-null  int64  \n",
      " 12  is_female     100000 non-null  int32  \n",
      " 13  has_cabin     100000 non-null  int32  \n",
      " 14  has_ticket    100000 non-null  int32  \n",
      " 15  has_age       100000 non-null  int32  \n",
      " 16  has_fare      100000 non-null  int32  \n",
      " 17  has_embarked  100000 non-null  int32  \n",
      " 18  cabin_letter  100000 non-null  object \n",
      " 19  is_child      100000 non-null  int32  \n",
      " 20  age_group     99940 non-null   object \n",
      "dtypes: float64(2), int32(7), int64(5), object(7)\n",
      "memory usage: 10.7+ MB\n"
     ]
    }
   ],
   "source": [
    "df.info()"
   ]
  },
  {
   "cell_type": "code",
   "execution_count": 8,
   "id": "e1fcd304",
   "metadata": {},
   "outputs": [
    {
     "data": {
      "text/html": [
       "<div>\n",
       "<style scoped>\n",
       "    .dataframe tbody tr th:only-of-type {\n",
       "        vertical-align: middle;\n",
       "    }\n",
       "\n",
       "    .dataframe tbody tr th {\n",
       "        vertical-align: top;\n",
       "    }\n",
       "\n",
       "    .dataframe thead th {\n",
       "        text-align: right;\n",
       "    }\n",
       "</style>\n",
       "<table border=\"1\" class=\"dataframe\">\n",
       "  <thead>\n",
       "    <tr style=\"text-align: right;\">\n",
       "      <th></th>\n",
       "      <th>Survived</th>\n",
       "      <th>Pclass</th>\n",
       "      <th>Age</th>\n",
       "      <th>SibSp</th>\n",
       "      <th>Parch</th>\n",
       "      <th>Fare</th>\n",
       "      <th>Family</th>\n",
       "      <th>is_female</th>\n",
       "      <th>has_cabin</th>\n",
       "      <th>has_ticket</th>\n",
       "      <th>has_age</th>\n",
       "      <th>has_fare</th>\n",
       "      <th>has_embarked</th>\n",
       "      <th>is_child</th>\n",
       "    </tr>\n",
       "  </thead>\n",
       "  <tbody>\n",
       "    <tr>\n",
       "      <th>count</th>\n",
       "      <td>100000.000000</td>\n",
       "      <td>100000.000000</td>\n",
       "      <td>100000.000000</td>\n",
       "      <td>100000.000000</td>\n",
       "      <td>100000.000000</td>\n",
       "      <td>100000.00000</td>\n",
       "      <td>100000.000000</td>\n",
       "      <td>100000.00000</td>\n",
       "      <td>100000.000000</td>\n",
       "      <td>100000.000000</td>\n",
       "      <td>100000.000000</td>\n",
       "      <td>100000.000000</td>\n",
       "      <td>100000.000000</td>\n",
       "      <td>100000.000000</td>\n",
       "    </tr>\n",
       "    <tr>\n",
       "      <th>mean</th>\n",
       "      <td>0.427740</td>\n",
       "      <td>2.106910</td>\n",
       "      <td>38.355472</td>\n",
       "      <td>0.397690</td>\n",
       "      <td>0.454560</td>\n",
       "      <td>43.92933</td>\n",
       "      <td>0.852250</td>\n",
       "      <td>0.43886</td>\n",
       "      <td>0.321340</td>\n",
       "      <td>0.953770</td>\n",
       "      <td>0.967080</td>\n",
       "      <td>0.998660</td>\n",
       "      <td>0.997500</td>\n",
       "      <td>0.126330</td>\n",
       "    </tr>\n",
       "    <tr>\n",
       "      <th>std</th>\n",
       "      <td>0.494753</td>\n",
       "      <td>0.837727</td>\n",
       "      <td>18.009589</td>\n",
       "      <td>0.862566</td>\n",
       "      <td>0.950076</td>\n",
       "      <td>69.54218</td>\n",
       "      <td>1.412792</td>\n",
       "      <td>0.49625</td>\n",
       "      <td>0.466993</td>\n",
       "      <td>0.209984</td>\n",
       "      <td>0.178428</td>\n",
       "      <td>0.036582</td>\n",
       "      <td>0.049938</td>\n",
       "      <td>0.332223</td>\n",
       "    </tr>\n",
       "    <tr>\n",
       "      <th>min</th>\n",
       "      <td>0.000000</td>\n",
       "      <td>1.000000</td>\n",
       "      <td>0.080000</td>\n",
       "      <td>0.000000</td>\n",
       "      <td>0.000000</td>\n",
       "      <td>0.68000</td>\n",
       "      <td>0.000000</td>\n",
       "      <td>0.00000</td>\n",
       "      <td>0.000000</td>\n",
       "      <td>0.000000</td>\n",
       "      <td>0.000000</td>\n",
       "      <td>0.000000</td>\n",
       "      <td>0.000000</td>\n",
       "      <td>0.000000</td>\n",
       "    </tr>\n",
       "    <tr>\n",
       "      <th>25%</th>\n",
       "      <td>0.000000</td>\n",
       "      <td>1.000000</td>\n",
       "      <td>25.000000</td>\n",
       "      <td>0.000000</td>\n",
       "      <td>0.000000</td>\n",
       "      <td>10.04000</td>\n",
       "      <td>0.000000</td>\n",
       "      <td>0.00000</td>\n",
       "      <td>0.000000</td>\n",
       "      <td>1.000000</td>\n",
       "      <td>1.000000</td>\n",
       "      <td>1.000000</td>\n",
       "      <td>1.000000</td>\n",
       "      <td>0.000000</td>\n",
       "    </tr>\n",
       "    <tr>\n",
       "      <th>50%</th>\n",
       "      <td>0.000000</td>\n",
       "      <td>2.000000</td>\n",
       "      <td>38.355472</td>\n",
       "      <td>0.000000</td>\n",
       "      <td>0.000000</td>\n",
       "      <td>24.49000</td>\n",
       "      <td>0.000000</td>\n",
       "      <td>0.00000</td>\n",
       "      <td>0.000000</td>\n",
       "      <td>1.000000</td>\n",
       "      <td>1.000000</td>\n",
       "      <td>1.000000</td>\n",
       "      <td>1.000000</td>\n",
       "      <td>0.000000</td>\n",
       "    </tr>\n",
       "    <tr>\n",
       "      <th>75%</th>\n",
       "      <td>1.000000</td>\n",
       "      <td>3.000000</td>\n",
       "      <td>53.000000</td>\n",
       "      <td>1.000000</td>\n",
       "      <td>1.000000</td>\n",
       "      <td>33.56000</td>\n",
       "      <td>1.000000</td>\n",
       "      <td>1.00000</td>\n",
       "      <td>1.000000</td>\n",
       "      <td>1.000000</td>\n",
       "      <td>1.000000</td>\n",
       "      <td>1.000000</td>\n",
       "      <td>1.000000</td>\n",
       "      <td>0.000000</td>\n",
       "    </tr>\n",
       "    <tr>\n",
       "      <th>max</th>\n",
       "      <td>1.000000</td>\n",
       "      <td>3.000000</td>\n",
       "      <td>87.000000</td>\n",
       "      <td>8.000000</td>\n",
       "      <td>9.000000</td>\n",
       "      <td>744.66000</td>\n",
       "      <td>17.000000</td>\n",
       "      <td>1.00000</td>\n",
       "      <td>1.000000</td>\n",
       "      <td>1.000000</td>\n",
       "      <td>1.000000</td>\n",
       "      <td>1.000000</td>\n",
       "      <td>1.000000</td>\n",
       "      <td>1.000000</td>\n",
       "    </tr>\n",
       "  </tbody>\n",
       "</table>\n",
       "</div>"
      ],
      "text/plain": [
       "            Survived         Pclass            Age          SibSp  \\\n",
       "count  100000.000000  100000.000000  100000.000000  100000.000000   \n",
       "mean        0.427740       2.106910      38.355472       0.397690   \n",
       "std         0.494753       0.837727      18.009589       0.862566   \n",
       "min         0.000000       1.000000       0.080000       0.000000   \n",
       "25%         0.000000       1.000000      25.000000       0.000000   \n",
       "50%         0.000000       2.000000      38.355472       0.000000   \n",
       "75%         1.000000       3.000000      53.000000       1.000000   \n",
       "max         1.000000       3.000000      87.000000       8.000000   \n",
       "\n",
       "               Parch          Fare         Family     is_female  \\\n",
       "count  100000.000000  100000.00000  100000.000000  100000.00000   \n",
       "mean        0.454560      43.92933       0.852250       0.43886   \n",
       "std         0.950076      69.54218       1.412792       0.49625   \n",
       "min         0.000000       0.68000       0.000000       0.00000   \n",
       "25%         0.000000      10.04000       0.000000       0.00000   \n",
       "50%         0.000000      24.49000       0.000000       0.00000   \n",
       "75%         1.000000      33.56000       1.000000       1.00000   \n",
       "max         9.000000     744.66000      17.000000       1.00000   \n",
       "\n",
       "           has_cabin     has_ticket        has_age       has_fare  \\\n",
       "count  100000.000000  100000.000000  100000.000000  100000.000000   \n",
       "mean        0.321340       0.953770       0.967080       0.998660   \n",
       "std         0.466993       0.209984       0.178428       0.036582   \n",
       "min         0.000000       0.000000       0.000000       0.000000   \n",
       "25%         0.000000       1.000000       1.000000       1.000000   \n",
       "50%         0.000000       1.000000       1.000000       1.000000   \n",
       "75%         1.000000       1.000000       1.000000       1.000000   \n",
       "max         1.000000       1.000000       1.000000       1.000000   \n",
       "\n",
       "        has_embarked       is_child  \n",
       "count  100000.000000  100000.000000  \n",
       "mean        0.997500       0.126330  \n",
       "std         0.049938       0.332223  \n",
       "min         0.000000       0.000000  \n",
       "25%         1.000000       0.000000  \n",
       "50%         1.000000       0.000000  \n",
       "75%         1.000000       0.000000  \n",
       "max         1.000000       1.000000  "
      ]
     },
     "execution_count": 8,
     "metadata": {},
     "output_type": "execute_result"
    }
   ],
   "source": [
    "df.describe()"
   ]
  },
  {
   "cell_type": "markdown",
   "id": "3c8509af",
   "metadata": {},
   "source": [
    "Split data to numeric and categorical features"
   ]
  },
  {
   "cell_type": "code",
   "execution_count": 9,
   "id": "230a98cc",
   "metadata": {},
   "outputs": [
    {
     "data": {
      "text/html": [
       "<div>\n",
       "<style scoped>\n",
       "    .dataframe tbody tr th:only-of-type {\n",
       "        vertical-align: middle;\n",
       "    }\n",
       "\n",
       "    .dataframe tbody tr th {\n",
       "        vertical-align: top;\n",
       "    }\n",
       "\n",
       "    .dataframe thead th {\n",
       "        text-align: right;\n",
       "    }\n",
       "</style>\n",
       "<table border=\"1\" class=\"dataframe\">\n",
       "  <thead>\n",
       "    <tr style=\"text-align: right;\">\n",
       "      <th></th>\n",
       "      <th>Survived</th>\n",
       "      <th>Age</th>\n",
       "      <th>SibSp</th>\n",
       "      <th>Parch</th>\n",
       "      <th>Fare</th>\n",
       "      <th>Family</th>\n",
       "    </tr>\n",
       "  </thead>\n",
       "  <tbody>\n",
       "    <tr>\n",
       "      <th>0</th>\n",
       "      <td>1</td>\n",
       "      <td>38.355472</td>\n",
       "      <td>2</td>\n",
       "      <td>0</td>\n",
       "      <td>27.14</td>\n",
       "      <td>2</td>\n",
       "    </tr>\n",
       "    <tr>\n",
       "      <th>1</th>\n",
       "      <td>0</td>\n",
       "      <td>38.355472</td>\n",
       "      <td>0</td>\n",
       "      <td>0</td>\n",
       "      <td>13.35</td>\n",
       "      <td>0</td>\n",
       "    </tr>\n",
       "    <tr>\n",
       "      <th>2</th>\n",
       "      <td>0</td>\n",
       "      <td>0.330000</td>\n",
       "      <td>1</td>\n",
       "      <td>2</td>\n",
       "      <td>71.29</td>\n",
       "      <td>3</td>\n",
       "    </tr>\n",
       "    <tr>\n",
       "      <th>3</th>\n",
       "      <td>0</td>\n",
       "      <td>19.000000</td>\n",
       "      <td>0</td>\n",
       "      <td>0</td>\n",
       "      <td>13.04</td>\n",
       "      <td>0</td>\n",
       "    </tr>\n",
       "    <tr>\n",
       "      <th>4</th>\n",
       "      <td>1</td>\n",
       "      <td>25.000000</td>\n",
       "      <td>0</td>\n",
       "      <td>0</td>\n",
       "      <td>7.76</td>\n",
       "      <td>0</td>\n",
       "    </tr>\n",
       "  </tbody>\n",
       "</table>\n",
       "</div>"
      ],
      "text/plain": [
       "   Survived        Age  SibSp  Parch   Fare  Family\n",
       "0         1  38.355472      2      0  27.14       2\n",
       "1         0  38.355472      0      0  13.35       0\n",
       "2         0   0.330000      1      2  71.29       3\n",
       "3         0  19.000000      0      0  13.04       0\n",
       "4         1  25.000000      0      0   7.76       0"
      ]
     },
     "execution_count": 9,
     "metadata": {},
     "output_type": "execute_result"
    }
   ],
   "source": [
    "num_features = [\"Age\", \"SibSp\", \"Parch\", \"Fare\", \"Family\"]\n",
    "nf = df[[\"Survived\"] + num_features]\n",
    "nf.head()"
   ]
  },
  {
   "cell_type": "code",
   "execution_count": 10,
   "id": "3c8e6570",
   "metadata": {},
   "outputs": [
    {
     "data": {
      "text/html": [
       "<div>\n",
       "<style scoped>\n",
       "    .dataframe tbody tr th:only-of-type {\n",
       "        vertical-align: middle;\n",
       "    }\n",
       "\n",
       "    .dataframe tbody tr th {\n",
       "        vertical-align: top;\n",
       "    }\n",
       "\n",
       "    .dataframe thead th {\n",
       "        text-align: right;\n",
       "    }\n",
       "</style>\n",
       "<table border=\"1\" class=\"dataframe\">\n",
       "  <thead>\n",
       "    <tr style=\"text-align: right;\">\n",
       "      <th></th>\n",
       "      <th>Survived</th>\n",
       "      <th>Pclass</th>\n",
       "      <th>Embarked</th>\n",
       "      <th>has_cabin</th>\n",
       "      <th>has_ticket</th>\n",
       "      <th>has_age</th>\n",
       "      <th>has_fare</th>\n",
       "      <th>has_embarked</th>\n",
       "      <th>is_female</th>\n",
       "      <th>is_child</th>\n",
       "      <th>cabin_letter</th>\n",
       "      <th>age_group</th>\n",
       "    </tr>\n",
       "  </thead>\n",
       "  <tbody>\n",
       "    <tr>\n",
       "      <th>0</th>\n",
       "      <td>1</td>\n",
       "      <td>1</td>\n",
       "      <td>S</td>\n",
       "      <td>1</td>\n",
       "      <td>1</td>\n",
       "      <td>0</td>\n",
       "      <td>1</td>\n",
       "      <td>1</td>\n",
       "      <td>0</td>\n",
       "      <td>0</td>\n",
       "      <td>C</td>\n",
       "      <td>30_39</td>\n",
       "    </tr>\n",
       "    <tr>\n",
       "      <th>1</th>\n",
       "      <td>0</td>\n",
       "      <td>3</td>\n",
       "      <td>S</td>\n",
       "      <td>0</td>\n",
       "      <td>1</td>\n",
       "      <td>0</td>\n",
       "      <td>1</td>\n",
       "      <td>1</td>\n",
       "      <td>0</td>\n",
       "      <td>0</td>\n",
       "      <td>n</td>\n",
       "      <td>30_39</td>\n",
       "    </tr>\n",
       "    <tr>\n",
       "      <th>2</th>\n",
       "      <td>0</td>\n",
       "      <td>3</td>\n",
       "      <td>S</td>\n",
       "      <td>0</td>\n",
       "      <td>1</td>\n",
       "      <td>1</td>\n",
       "      <td>1</td>\n",
       "      <td>1</td>\n",
       "      <td>0</td>\n",
       "      <td>1</td>\n",
       "      <td>n</td>\n",
       "      <td>0_19</td>\n",
       "    </tr>\n",
       "    <tr>\n",
       "      <th>3</th>\n",
       "      <td>0</td>\n",
       "      <td>3</td>\n",
       "      <td>S</td>\n",
       "      <td>0</td>\n",
       "      <td>1</td>\n",
       "      <td>1</td>\n",
       "      <td>1</td>\n",
       "      <td>1</td>\n",
       "      <td>0</td>\n",
       "      <td>0</td>\n",
       "      <td>n</td>\n",
       "      <td>0_19</td>\n",
       "    </tr>\n",
       "    <tr>\n",
       "      <th>4</th>\n",
       "      <td>1</td>\n",
       "      <td>3</td>\n",
       "      <td>S</td>\n",
       "      <td>0</td>\n",
       "      <td>1</td>\n",
       "      <td>1</td>\n",
       "      <td>1</td>\n",
       "      <td>1</td>\n",
       "      <td>0</td>\n",
       "      <td>0</td>\n",
       "      <td>n</td>\n",
       "      <td>20_29</td>\n",
       "    </tr>\n",
       "  </tbody>\n",
       "</table>\n",
       "</div>"
      ],
      "text/plain": [
       "   Survived  Pclass Embarked  has_cabin  has_ticket  has_age  has_fare  \\\n",
       "0         1       1        S          1           1        0         1   \n",
       "1         0       3        S          0           1        0         1   \n",
       "2         0       3        S          0           1        1         1   \n",
       "3         0       3        S          0           1        1         1   \n",
       "4         1       3        S          0           1        1         1   \n",
       "\n",
       "   has_embarked  is_female  is_child cabin_letter age_group  \n",
       "0             1          0         0            C     30_39  \n",
       "1             1          0         0            n     30_39  \n",
       "2             1          0         1            n      0_19  \n",
       "3             1          0         0            n      0_19  \n",
       "4             1          0         0            n     20_29  "
      ]
     },
     "execution_count": 10,
     "metadata": {},
     "output_type": "execute_result"
    }
   ],
   "source": [
    "cat_features = [\"Pclass\",\n",
    "                \"Embarked\",\n",
    "                \"has_cabin\", \n",
    "                \"has_ticket\", \n",
    "                \"has_age\", \n",
    "                \"has_fare\", \n",
    "                \"has_embarked\",\n",
    "                \"is_female\",\n",
    "                \"is_child\",\n",
    "                \"cabin_letter\",\n",
    "                \"age_group\"\n",
    "               ]\n",
    "\n",
    "cf = df[[\"Survived\"] + cat_features]\n",
    "cf.head()"
   ]
  },
  {
   "cell_type": "code",
   "execution_count": 11,
   "id": "162868d5",
   "metadata": {},
   "outputs": [
    {
     "data": {
      "text/html": [
       "<div>\n",
       "<style scoped>\n",
       "    .dataframe tbody tr th:only-of-type {\n",
       "        vertical-align: middle;\n",
       "    }\n",
       "\n",
       "    .dataframe tbody tr th {\n",
       "        vertical-align: top;\n",
       "    }\n",
       "\n",
       "    .dataframe thead th {\n",
       "        text-align: right;\n",
       "    }\n",
       "</style>\n",
       "<table border=\"1\" class=\"dataframe\">\n",
       "  <thead>\n",
       "    <tr style=\"text-align: right;\">\n",
       "      <th></th>\n",
       "      <th>Pclass</th>\n",
       "      <th>Age</th>\n",
       "      <th>SibSp</th>\n",
       "      <th>Parch</th>\n",
       "      <th>Fare</th>\n",
       "      <th>Family</th>\n",
       "      <th>is_female</th>\n",
       "      <th>has_cabin</th>\n",
       "      <th>has_ticket</th>\n",
       "      <th>has_age</th>\n",
       "      <th>has_fare</th>\n",
       "      <th>has_embarked</th>\n",
       "      <th>is_child</th>\n",
       "    </tr>\n",
       "    <tr>\n",
       "      <th>Survived</th>\n",
       "      <th></th>\n",
       "      <th></th>\n",
       "      <th></th>\n",
       "      <th></th>\n",
       "      <th></th>\n",
       "      <th></th>\n",
       "      <th></th>\n",
       "      <th></th>\n",
       "      <th></th>\n",
       "      <th></th>\n",
       "      <th></th>\n",
       "      <th></th>\n",
       "      <th></th>\n",
       "    </tr>\n",
       "  </thead>\n",
       "  <tbody>\n",
       "    <tr>\n",
       "      <th>0</th>\n",
       "      <td>2.316744</td>\n",
       "      <td>36.764407</td>\n",
       "      <td>0.403348</td>\n",
       "      <td>0.435379</td>\n",
       "      <td>32.661908</td>\n",
       "      <td>0.838727</td>\n",
       "      <td>0.221228</td>\n",
       "      <td>0.219778</td>\n",
       "      <td>0.961381</td>\n",
       "      <td>0.966169</td>\n",
       "      <td>0.998724</td>\n",
       "      <td>0.997763</td>\n",
       "      <td>0.125555</td>\n",
       "    </tr>\n",
       "    <tr>\n",
       "      <th>1</th>\n",
       "      <td>1.826179</td>\n",
       "      <td>40.484109</td>\n",
       "      <td>0.390120</td>\n",
       "      <td>0.480222</td>\n",
       "      <td>59.003664</td>\n",
       "      <td>0.870342</td>\n",
       "      <td>0.730023</td>\n",
       "      <td>0.457217</td>\n",
       "      <td>0.943587</td>\n",
       "      <td>0.968298</td>\n",
       "      <td>0.998574</td>\n",
       "      <td>0.997148</td>\n",
       "      <td>0.127367</td>\n",
       "    </tr>\n",
       "  </tbody>\n",
       "</table>\n",
       "</div>"
      ],
      "text/plain": [
       "            Pclass        Age     SibSp     Parch       Fare    Family  \\\n",
       "Survived                                                                 \n",
       "0         2.316744  36.764407  0.403348  0.435379  32.661908  0.838727   \n",
       "1         1.826179  40.484109  0.390120  0.480222  59.003664  0.870342   \n",
       "\n",
       "          is_female  has_cabin  has_ticket   has_age  has_fare  has_embarked  \\\n",
       "Survived                                                                       \n",
       "0          0.221228   0.219778    0.961381  0.966169  0.998724      0.997763   \n",
       "1          0.730023   0.457217    0.943587  0.968298  0.998574      0.997148   \n",
       "\n",
       "          is_child  \n",
       "Survived            \n",
       "0         0.125555  \n",
       "1         0.127367  "
      ]
     },
     "execution_count": 11,
     "metadata": {},
     "output_type": "execute_result"
    }
   ],
   "source": [
    "df.groupby('Survived').mean()"
   ]
  },
  {
   "cell_type": "markdown",
   "id": "8b503f75",
   "metadata": {},
   "source": [
    "# Data exploration"
   ]
  },
  {
   "cell_type": "code",
   "execution_count": 12,
   "id": "dbe23fde",
   "metadata": {},
   "outputs": [
    {
     "data": {
      "text/plain": [
       "<AxesSubplot:>"
      ]
     },
     "execution_count": 12,
     "metadata": {},
     "output_type": "execute_result"
    },
    {
     "data": {
      "image/png": "[encoded data removed]",
      "text/plain": [
       "<Figure size 432x288 with 2 Axes>"
      ]
     },
     "metadata": {
      "needs_background": "light"
     },
     "output_type": "display_data"
    }
   ],
   "source": [
    "sns.heatmap(df.corr(method='pearson'))"
   ]
  },
  {
   "cell_type": "code",
   "execution_count": 13,
   "id": "dd02a059",
   "metadata": {},
   "outputs": [
    {
     "data": {
      "image/png": "[encoded data removed]",
      "text/plain": [
       "<Figure size 432x288 with 1 Axes>"
      ]
     },
     "metadata": {
      "needs_background": "light"
     },
     "output_type": "display_data"
    },
    {
     "data": {
      "image/png": "[encoded data removed]",
      "text/plain": [
       "<Figure size 432x288 with 1 Axes>"
      ]
     },
     "metadata": {
      "needs_background": "light"
     },
     "output_type": "display_data"
    },
    {
     "data": {
      "image/png": "[encoded data removed]",
      "text/plain": [
       "<Figure size 432x288 with 1 Axes>"
      ]
     },
     "metadata": {
      "needs_background": "light"
     },
     "output_type": "display_data"
    },
    {
     "data": {
      "image/png": "[encoded data removed]",
      "text/plain": [
       "<Figure size 432x288 with 1 Axes>"
      ]
     },
     "metadata": {
      "needs_background": "light"
     },
     "output_type": "display_data"
    },
    {
     "data": {
      "image/png": "[encoded data removed]",
      "text/plain": [
       "<Figure size 432x288 with 1 Axes>"
      ]
     },
     "metadata": {
      "needs_background": "light"
     },
     "output_type": "display_data"
    }
   ],
   "source": [
    "for i in num_features:\n",
    "    plt.figure(i)\n",
    "    plt.hist(df[i])\n",
    "    plt.title(i)\n",
    "    plt.show()"
   ]
  },
  {
   "cell_type": "code",
   "execution_count": 14,
   "id": "8fe130bf",
   "metadata": {},
   "outputs": [
    {
     "data": {
      "text/plain": [
       "<seaborn.axisgrid.FacetGrid at 0xa6ff2210>"
      ]
     },
     "execution_count": 14,
     "metadata": {},
     "output_type": "execute_result"
    },
    {
     "data": {
      "image/png": "[encoded data removed]",
      "text/plain": [
       "<Figure size 720x360 with 1 Axes>"
      ]
     },
     "metadata": {
      "needs_background": "light"
     },
     "output_type": "display_data"
    }
   ],
   "source": [
    "sns.catplot(x='SibSp', y='Survived', data=df, kind=\"point\", aspect=2)"
   ]
  },
  {
   "cell_type": "code",
   "execution_count": 15,
   "id": "21c24ca1",
   "metadata": {},
   "outputs": [
    {
     "data": {
      "text/plain": [
       "<seaborn.axisgrid.FacetGrid at 0xa6f73c50>"
      ]
     },
     "execution_count": 15,
     "metadata": {},
     "output_type": "execute_result"
    },
    {
     "data": {
      "image/png": "[encoded data removed]",
      "text/plain": [
       "<Figure size 720x360 with 1 Axes>"
      ]
     },
     "metadata": {
      "needs_background": "light"
     },
     "output_type": "display_data"
    }
   ],
   "source": [
    "sns.catplot(x='Parch', y='Survived', data=df, kind=\"point\", aspect=2)"
   ]
  },
  {
   "cell_type": "code",
   "execution_count": 16,
   "id": "b41e29d2",
   "metadata": {},
   "outputs": [
    {
     "data": {
      "text/plain": [
       "<seaborn.axisgrid.FacetGrid at 0xa6f733f0>"
      ]
     },
     "execution_count": 16,
     "metadata": {},
     "output_type": "execute_result"
    },
    {
     "data": {
      "image/png": "[encoded data removed]",
      "text/plain": [
       "<Figure size 720x360 with 1 Axes>"
      ]
     },
     "metadata": {
      "needs_background": "light"
     },
     "output_type": "display_data"
    }
   ],
   "source": [
    "sns.catplot(x='Family', y='Survived', data=df, kind=\"point\", aspect=2)"
   ]
  },
  {
   "cell_type": "code",
   "execution_count": 17,
   "id": "ad6b4cff",
   "metadata": {
    "scrolled": false
   },
   "outputs": [
    {
     "data": {
      "text/plain": [
       "<Figure size 432x288 with 0 Axes>"
      ]
     },
     "metadata": {},
     "output_type": "display_data"
    },
    {
     "data": {
      "image/png": "[encoded data removed]",
      "text/plain": [
       "<Figure size 720x360 with 1 Axes>"
      ]
     },
     "metadata": {
      "needs_background": "light"
     },
     "output_type": "display_data"
    },
    {
     "data": {
      "image/png": "[encoded data removed]",
      "text/plain": [
       "<Figure size 720x360 with 1 Axes>"
      ]
     },
     "metadata": {
      "needs_background": "light"
     },
     "output_type": "display_data"
    },
    {
     "data": {
      "image/png": "[encoded data removed]",
      "text/plain": [
       "<Figure size 720x360 with 1 Axes>"
      ]
     },
     "metadata": {
      "needs_background": "light"
     },
     "output_type": "display_data"
    },
    {
     "data": {
      "image/png": "[encoded data removed]",
      "text/plain": [
       "<Figure size 720x360 with 1 Axes>"
      ]
     },
     "metadata": {
      "needs_background": "light"
     },
     "output_type": "display_data"
    },
    {
     "data": {
      "image/png": "[encoded data removed]",
      "text/plain": [
       "<Figure size 720x360 with 1 Axes>"
      ]
     },
     "metadata": {
      "needs_background": "light"
     },
     "output_type": "display_data"
    },
    {
     "data": {
      "image/png": "[encoded data removed]",
      "text/plain": [
       "<Figure size 720x360 with 1 Axes>"
      ]
     },
     "metadata": {
      "needs_background": "light"
     },
     "output_type": "display_data"
    },
    {
     "data": {
      "image/png": "[encoded data removed]",
      "text/plain": [
       "<Figure size 720x360 with 1 Axes>"
      ]
     },
     "metadata": {
      "needs_background": "light"
     },
     "output_type": "display_data"
    },
    {
     "data": {
      "image/png": "[encoded data removed]",
      "text/plain": [
       "<Figure size 720x360 with 1 Axes>"
      ]
     },
     "metadata": {
      "needs_background": "light"
     },
     "output_type": "display_data"
    },
    {
     "data": {
      "image/png": "[encoded data removed]",
      "text/plain": [
       "<Figure size 720x360 with 1 Axes>"
      ]
     },
     "metadata": {
      "needs_background": "light"
     },
     "output_type": "display_data"
    },
    {
     "data": {
      "image/png": "[encoded data removed]",
      "text/plain": [
       "<Figure size 720x360 with 1 Axes>"
      ]
     },
     "metadata": {
      "needs_background": "light"
     },
     "output_type": "display_data"
    },
    {
     "data": {
      "image/png": "[encoded data removed]",
      "text/plain": [
       "<Figure size 720x360 with 1 Axes>"
      ]
     },
     "metadata": {
      "needs_background": "light"
     },
     "output_type": "display_data"
    }
   ],
   "source": [
    "for i, col in enumerate(cat_features):\n",
    "    plt.figure(i)\n",
    "    sns.catplot(x=col, y='Survived', data=df, kind=\"point\", aspect=2,)"
   ]
  },
  {
   "cell_type": "markdown",
   "id": "cca8f3d1",
   "metadata": {},
   "source": [
    "- C = Cherbourg\n",
    "- Q = Queenstown\n",
    "- S = Southampton\n",
    "\n",
    "\n",
    "\n",
    "![Image of Yaktocat](https://upload.wikimedia.org/wikipedia/commons/thumb/a/af/TitanicRoute.svg/1200px-TitanicRoute.svg.png)\n",
    "\n",
    "**boarding order**: S -> C -> Q"
   ]
  },
  {
   "cell_type": "code",
   "execution_count": 18,
   "id": "3389cc2f",
   "metadata": {},
   "outputs": [
    {
     "data": {
      "text/html": [
       "<div>\n",
       "<style scoped>\n",
       "    .dataframe tbody tr th:only-of-type {\n",
       "        vertical-align: middle;\n",
       "    }\n",
       "\n",
       "    .dataframe tbody tr th {\n",
       "        vertical-align: top;\n",
       "    }\n",
       "\n",
       "    .dataframe thead th {\n",
       "        text-align: right;\n",
       "    }\n",
       "</style>\n",
       "<table border=\"1\" class=\"dataframe\">\n",
       "  <thead>\n",
       "    <tr style=\"text-align: right;\">\n",
       "      <th>Embarked</th>\n",
       "      <th>C</th>\n",
       "      <th>Q</th>\n",
       "      <th>S</th>\n",
       "    </tr>\n",
       "    <tr>\n",
       "      <th>Sex</th>\n",
       "      <th></th>\n",
       "      <th></th>\n",
       "      <th></th>\n",
       "    </tr>\n",
       "  </thead>\n",
       "  <tbody>\n",
       "    <tr>\n",
       "      <th>female</th>\n",
       "      <td>15786</td>\n",
       "      <td>3852</td>\n",
       "      <td>24117</td>\n",
       "    </tr>\n",
       "    <tr>\n",
       "      <th>male</th>\n",
       "      <td>6401</td>\n",
       "      <td>1572</td>\n",
       "      <td>48022</td>\n",
       "    </tr>\n",
       "  </tbody>\n",
       "</table>\n",
       "</div>"
      ],
      "text/plain": [
       "Embarked      C     Q      S\n",
       "Sex                         \n",
       "female    15786  3852  24117\n",
       "male       6401  1572  48022"
      ]
     },
     "execution_count": 18,
     "metadata": {},
     "output_type": "execute_result"
    }
   ],
   "source": [
    "df.pivot_table('Survived', index='Sex', columns='Embarked', aggfunc='count')"
   ]
  },
  {
   "cell_type": "code",
   "execution_count": 19,
   "id": "3ac4965b",
   "metadata": {},
   "outputs": [
    {
     "data": {
      "text/html": [
       "<div>\n",
       "<style scoped>\n",
       "    .dataframe tbody tr th:only-of-type {\n",
       "        vertical-align: middle;\n",
       "    }\n",
       "\n",
       "    .dataframe tbody tr th {\n",
       "        vertical-align: top;\n",
       "    }\n",
       "\n",
       "    .dataframe thead th {\n",
       "        text-align: right;\n",
       "    }\n",
       "</style>\n",
       "<table border=\"1\" class=\"dataframe\">\n",
       "  <thead>\n",
       "    <tr style=\"text-align: right;\">\n",
       "      <th>Embarked</th>\n",
       "      <th>C</th>\n",
       "      <th>Q</th>\n",
       "      <th>S</th>\n",
       "    </tr>\n",
       "    <tr>\n",
       "      <th>has_cabin</th>\n",
       "      <th></th>\n",
       "      <th></th>\n",
       "      <th></th>\n",
       "    </tr>\n",
       "  </thead>\n",
       "  <tbody>\n",
       "    <tr>\n",
       "      <th>0</th>\n",
       "      <td>9208</td>\n",
       "      <td>1402</td>\n",
       "      <td>57094</td>\n",
       "    </tr>\n",
       "    <tr>\n",
       "      <th>1</th>\n",
       "      <td>12979</td>\n",
       "      <td>4022</td>\n",
       "      <td>15045</td>\n",
       "    </tr>\n",
       "  </tbody>\n",
       "</table>\n",
       "</div>"
      ],
      "text/plain": [
       "Embarked       C     Q      S\n",
       "has_cabin                    \n",
       "0           9208  1402  57094\n",
       "1          12979  4022  15045"
      ]
     },
     "execution_count": 19,
     "metadata": {},
     "output_type": "execute_result"
    }
   ],
   "source": [
    "df.pivot_table('Survived', index='has_cabin', columns='Embarked', aggfunc='count')"
   ]
  },
  {
   "cell_type": "code",
   "execution_count": 20,
   "id": "ad2f0df9",
   "metadata": {},
   "outputs": [
    {
     "data": {
      "text/html": [
       "<div>\n",
       "<style scoped>\n",
       "    .dataframe tbody tr th:only-of-type {\n",
       "        vertical-align: middle;\n",
       "    }\n",
       "\n",
       "    .dataframe tbody tr th {\n",
       "        vertical-align: top;\n",
       "    }\n",
       "\n",
       "    .dataframe thead th {\n",
       "        text-align: right;\n",
       "    }\n",
       "</style>\n",
       "<table border=\"1\" class=\"dataframe\">\n",
       "  <thead>\n",
       "    <tr style=\"text-align: right;\">\n",
       "      <th>has_ticket</th>\n",
       "      <th>0</th>\n",
       "      <th>1</th>\n",
       "    </tr>\n",
       "    <tr>\n",
       "      <th>Survived</th>\n",
       "      <th></th>\n",
       "      <th></th>\n",
       "    </tr>\n",
       "  </thead>\n",
       "  <tbody>\n",
       "    <tr>\n",
       "      <th>0</th>\n",
       "      <td>2210</td>\n",
       "      <td>55016</td>\n",
       "    </tr>\n",
       "    <tr>\n",
       "      <th>1</th>\n",
       "      <td>2413</td>\n",
       "      <td>40361</td>\n",
       "    </tr>\n",
       "  </tbody>\n",
       "</table>\n",
       "</div>"
      ],
      "text/plain": [
       "has_ticket     0      1\n",
       "Survived               \n",
       "0           2210  55016\n",
       "1           2413  40361"
      ]
     },
     "execution_count": 20,
     "metadata": {},
     "output_type": "execute_result"
    }
   ],
   "source": [
    "df.pivot_table('Age', index='Survived', columns='has_ticket', aggfunc='count')"
   ]
  },
  {
   "cell_type": "code",
   "execution_count": 21,
   "id": "23f0dcf9",
   "metadata": {},
   "outputs": [
    {
     "data": {
      "text/html": [
       "<div>\n",
       "<style scoped>\n",
       "    .dataframe tbody tr th:only-of-type {\n",
       "        vertical-align: middle;\n",
       "    }\n",
       "\n",
       "    .dataframe tbody tr th {\n",
       "        vertical-align: top;\n",
       "    }\n",
       "\n",
       "    .dataframe thead th {\n",
       "        text-align: right;\n",
       "    }\n",
       "</style>\n",
       "<table border=\"1\" class=\"dataframe\">\n",
       "  <thead>\n",
       "    <tr style=\"text-align: right;\">\n",
       "      <th>cabin_letter</th>\n",
       "      <th>A</th>\n",
       "      <th>B</th>\n",
       "      <th>C</th>\n",
       "      <th>D</th>\n",
       "      <th>E</th>\n",
       "      <th>F</th>\n",
       "      <th>G</th>\n",
       "      <th>T</th>\n",
       "      <th>n</th>\n",
       "    </tr>\n",
       "    <tr>\n",
       "      <th>Survived</th>\n",
       "      <th></th>\n",
       "      <th></th>\n",
       "      <th></th>\n",
       "      <th></th>\n",
       "      <th></th>\n",
       "      <th></th>\n",
       "      <th></th>\n",
       "      <th></th>\n",
       "      <th></th>\n",
       "    </tr>\n",
       "  </thead>\n",
       "  <tbody>\n",
       "    <tr>\n",
       "      <th>0</th>\n",
       "      <td>4575</td>\n",
       "      <td>2751</td>\n",
       "      <td>3403</td>\n",
       "      <td>974</td>\n",
       "      <td>669</td>\n",
       "      <td>108</td>\n",
       "      <td>79</td>\n",
       "      <td>18</td>\n",
       "      <td>44649</td>\n",
       "    </tr>\n",
       "    <tr>\n",
       "      <th>1</th>\n",
       "      <td>1732</td>\n",
       "      <td>4688</td>\n",
       "      <td>8422</td>\n",
       "      <td>2663</td>\n",
       "      <td>1080</td>\n",
       "      <td>555</td>\n",
       "      <td>403</td>\n",
       "      <td>14</td>\n",
       "      <td>23217</td>\n",
       "    </tr>\n",
       "  </tbody>\n",
       "</table>\n",
       "</div>"
      ],
      "text/plain": [
       "cabin_letter     A     B     C     D     E    F    G   T      n\n",
       "Survived                                                       \n",
       "0             4575  2751  3403   974   669  108   79  18  44649\n",
       "1             1732  4688  8422  2663  1080  555  403  14  23217"
      ]
     },
     "execution_count": 21,
     "metadata": {},
     "output_type": "execute_result"
    }
   ],
   "source": [
    "df.pivot_table('Age', index='Survived', columns='cabin_letter', aggfunc='count')"
   ]
  },
  {
   "cell_type": "code",
   "execution_count": 22,
   "id": "fbf3b21b",
   "metadata": {},
   "outputs": [
    {
     "data": {
      "text/plain": [
       "<seaborn.axisgrid.FacetGrid at 0xa3beb510>"
      ]
     },
     "execution_count": 22,
     "metadata": {},
     "output_type": "execute_result"
    },
    {
     "data": {
      "image/png": "[encoded data removed]",
      "text/plain": [
       "<Figure size 720x360 with 1 Axes>"
      ]
     },
     "metadata": {
      "needs_background": "light"
     },
     "output_type": "display_data"
    }
   ],
   "source": [
    "sns.catplot(x='cabin_letter', y='Survived', data=df, kind=\"point\", aspect=2, order=[\"G\", \"F\", \"D\", \"C\", \"B\", \"E\", \"T\", \"n\", \"A\"])"
   ]
  },
  {
   "cell_type": "code",
   "execution_count": 23,
   "id": "a4bea273",
   "metadata": {},
   "outputs": [
    {
     "data": {
      "text/html": [
       "<div>\n",
       "<style scoped>\n",
       "    .dataframe tbody tr th:only-of-type {\n",
       "        vertical-align: middle;\n",
       "    }\n",
       "\n",
       "    .dataframe tbody tr th {\n",
       "        vertical-align: top;\n",
       "    }\n",
       "\n",
       "    .dataframe thead th {\n",
       "        text-align: right;\n",
       "    }\n",
       "</style>\n",
       "<table border=\"1\" class=\"dataframe\">\n",
       "  <thead>\n",
       "    <tr style=\"text-align: right;\">\n",
       "      <th></th>\n",
       "      <th>Survived</th>\n",
       "      <th>Pclass</th>\n",
       "      <th>Age</th>\n",
       "      <th>SibSp</th>\n",
       "      <th>Parch</th>\n",
       "      <th>Fare</th>\n",
       "      <th>Family</th>\n",
       "      <th>is_female</th>\n",
       "      <th>has_cabin</th>\n",
       "      <th>has_ticket</th>\n",
       "      <th>has_age</th>\n",
       "      <th>has_fare</th>\n",
       "      <th>has_embarked</th>\n",
       "      <th>is_child</th>\n",
       "    </tr>\n",
       "    <tr>\n",
       "      <th>Embarked</th>\n",
       "      <th></th>\n",
       "      <th></th>\n",
       "      <th></th>\n",
       "      <th></th>\n",
       "      <th></th>\n",
       "      <th></th>\n",
       "      <th></th>\n",
       "      <th></th>\n",
       "      <th></th>\n",
       "      <th></th>\n",
       "      <th></th>\n",
       "      <th></th>\n",
       "      <th></th>\n",
       "      <th></th>\n",
       "    </tr>\n",
       "  </thead>\n",
       "  <tbody>\n",
       "    <tr>\n",
       "      <th>C</th>\n",
       "      <td>0.751296</td>\n",
       "      <td>1.654978</td>\n",
       "      <td>41.735379</td>\n",
       "      <td>0.366972</td>\n",
       "      <td>0.479831</td>\n",
       "      <td>71.507992</td>\n",
       "      <td>0.846802</td>\n",
       "      <td>0.711498</td>\n",
       "      <td>0.584982</td>\n",
       "      <td>0.989273</td>\n",
       "      <td>0.967053</td>\n",
       "      <td>0.998513</td>\n",
       "      <td>1.0</td>\n",
       "      <td>0.103484</td>\n",
       "    </tr>\n",
       "    <tr>\n",
       "      <th>Q</th>\n",
       "      <td>0.596976</td>\n",
       "      <td>1.461283</td>\n",
       "      <td>49.671516</td>\n",
       "      <td>0.287058</td>\n",
       "      <td>0.423304</td>\n",
       "      <td>73.341703</td>\n",
       "      <td>0.710361</td>\n",
       "      <td>0.710177</td>\n",
       "      <td>0.741519</td>\n",
       "      <td>0.989860</td>\n",
       "      <td>0.965524</td>\n",
       "      <td>0.998525</td>\n",
       "      <td>1.0</td>\n",
       "      <td>0.046460</td>\n",
       "    </tr>\n",
       "    <tr>\n",
       "      <th>S</th>\n",
       "      <td>0.315294</td>\n",
       "      <td>2.294709</td>\n",
       "      <td>36.461406</td>\n",
       "      <td>0.415628</td>\n",
       "      <td>0.448939</td>\n",
       "      <td>33.213691</td>\n",
       "      <td>0.864567</td>\n",
       "      <td>0.334313</td>\n",
       "      <td>0.208556</td>\n",
       "      <td>0.940102</td>\n",
       "      <td>0.967119</td>\n",
       "      <td>0.998725</td>\n",
       "      <td>1.0</td>\n",
       "      <td>0.139439</td>\n",
       "    </tr>\n",
       "  </tbody>\n",
       "</table>\n",
       "</div>"
      ],
      "text/plain": [
       "          Survived    Pclass        Age     SibSp     Parch       Fare  \\\n",
       "Embarked                                                                 \n",
       "C         0.751296  1.654978  41.735379  0.366972  0.479831  71.507992   \n",
       "Q         0.596976  1.461283  49.671516  0.287058  0.423304  73.341703   \n",
       "S         0.315294  2.294709  36.461406  0.415628  0.448939  33.213691   \n",
       "\n",
       "            Family  is_female  has_cabin  has_ticket   has_age  has_fare  \\\n",
       "Embarked                                                                   \n",
       "C         0.846802   0.711498   0.584982    0.989273  0.967053  0.998513   \n",
       "Q         0.710361   0.710177   0.741519    0.989860  0.965524  0.998525   \n",
       "S         0.864567   0.334313   0.208556    0.940102  0.967119  0.998725   \n",
       "\n",
       "          has_embarked  is_child  \n",
       "Embarked                          \n",
       "C                  1.0  0.103484  \n",
       "Q                  1.0  0.046460  \n",
       "S                  1.0  0.139439  "
      ]
     },
     "execution_count": 23,
     "metadata": {},
     "output_type": "execute_result"
    }
   ],
   "source": [
    "df.groupby('Embarked').mean()"
   ]
  },
  {
   "cell_type": "markdown",
   "id": "04e0b0b8",
   "metadata": {},
   "source": [
    "# Summary"
   ]
  },
  {
   "cell_type": "markdown",
   "id": "5f8ff314",
   "metadata": {},
   "source": [
    "Факторы наиболее значимо повышающие выживаемость:\n",
    "1. возраст, наибольшая выживаемость в группе 70+\n",
    "1. высокая цена билета, выжившие в среднем заплатили за свой билет в 2 раза больше\n",
    "1. женский пол, 73% выживших - женщины\n",
    "1. 1й класс билета\n",
    "1. наличие записи о каюте положительно влияет на выживаемость\n",
    "1. каюты с префиксами G, F, D наиболее повышают выживаемость\n",
    "1. отсутствие записи о билете положительно влияет на выживаемость\n",
    "\n",
    "Факторы понижающие выживаемость:\n",
    "1. возраст до 20-29 лет\n",
    "1. дешевый билет\n",
    "1. мужской пол\n",
    "1. 3й класс билета\n",
    "1. отсутствие записи о каюте\n",
    "1. каюта с префиксом А\n",
    "\n",
    "Примечания:\n",
    "- город посадки напрямую не влияет на выживаемость, но в городе Southampton на борт принято в 2 раза больше мужчин, а в Cherbourg - в 2.5 раза больше женщин, что сильно влияет на график\n",
    "- количество родственников на борту незначительно влияет на выживаемость"
   ]
  }
 ],
 "metadata": {
  "kernelspec": {
   "display_name": "Python 3 (ipykernel)",
   "language": "python",
   "name": "python3"
  },
  "language_info": {
   "codemirror_mode": {
    "name": "ipython",
    "version": 3
   },
   "file_extension": ".py",
   "mimetype": "text/x-python",
   "name": "python",
   "nbconvert_exporter": "python",
   "pygments_lexer": "ipython3",
   "version": "3.7.3"
  }
 },
 "nbformat": 4,
 "nbformat_minor": 5
}
